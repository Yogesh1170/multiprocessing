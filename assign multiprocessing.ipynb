{
 "cells": [
  {
   "cell_type": "code",
   "execution_count": 1,
   "id": "8b2a7536-303e-4fda-b40e-62f3a3a8fe5a",
   "metadata": {},
   "outputs": [
    {
     "data": {
      "text/plain": [
       "'Multiprocessing refers to running multiple processes simultaneously,\\nwhich can be incredibly useful for speeding up your code and handling large datasets and tasks. '"
      ]
     },
     "execution_count": 1,
     "metadata": {},
     "output_type": "execute_result"
    }
   ],
   "source": [
    "#Q1. What is multiprocessing in python? Why is it useful?\n",
    "'''Multiprocessing refers to running multiple processes simultaneously,\n",
    "which can be incredibly useful for speeding up your code and handling large datasets and tasks. '''"
   ]
  },
  {
   "cell_type": "code",
   "execution_count": 2,
   "id": "ea933ff2-dd53-4bd6-a63f-a515aef6f51c",
   "metadata": {},
   "outputs": [
    {
     "data": {
      "text/plain": [
       "'Multithreading uses a common address space for all the threads, whereas multiprocessing creates a separate address space for each process.'"
      ]
     },
     "execution_count": 2,
     "metadata": {},
     "output_type": "execute_result"
    }
   ],
   "source": [
    "#Q2. What are the differences between multiprocessing and multithreading?\n",
    "'''Multithreading uses a common address space for all the threads, whereas multiprocessing creates a separate address space for each process.'''\n"
   ]
  },
  {
   "cell_type": "code",
   "execution_count": 3,
   "id": "49f284f1-70a8-456b-9e7e-c65677746c07",
   "metadata": {},
   "outputs": [
    {
     "name": "stdout",
     "output_type": "stream",
     "text": [
      "this is my main program\n",
      "this is my multiprocessing prog\n"
     ]
    }
   ],
   "source": [
    "#Q3. Write a python code to create a process using the multiprocessing module.\n",
    "import multiprocessing\n",
    "def test():\n",
    "    print('this is my multiprocessing prog')\n",
    "if __name__ =='__main__':\n",
    "    m = multiprocessing.Process(target=test)\n",
    "    print('this is my main program')\n",
    "    m.start()\n",
    "\n",
    "    m.join()\n"
   ]
  },
  {
   "cell_type": "code",
   "execution_count": 4,
   "id": "df3389a5-f18e-400b-9d95-ab7010c42a63",
   "metadata": {},
   "outputs": [
    {
     "data": {
      "text/plain": [
       "'It creates multiple Python processes in the background and spreads out your computations for you across multiple\\nCPU cores so that they all happen in parallel without you needing to do anything.\\nPool class when you need to execute many short- to modest-length tasks throughout the duration of your application.'"
      ]
     },
     "execution_count": 4,
     "metadata": {},
     "output_type": "execute_result"
    }
   ],
   "source": [
    "#Q4. What is a multiprocessing pool in python? Why is it used?\n",
    "'''It creates multiple Python processes in the background and spreads out your computations for you across multiple\n",
    "CPU cores so that they all happen in parallel without you needing to do anything.\n",
    "Pool class when you need to execute many short- to modest-length tasks throughout the duration of your application.'''\n",
    "\n"
   ]
  },
  {
   "cell_type": "code",
   "execution_count": 5,
   "id": "aeaad758-4dae-46d3-9741-66fdd87c4527",
   "metadata": {},
   "outputs": [
    {
     "name": "stdout",
     "output_type": "stream",
     "text": [
      "[1, 4, 9, 16]\n"
     ]
    }
   ],
   "source": [
    "#Q5. How can we create a pool of worker processes in python using the multiprocessing module?\n",
    "def square(n):\n",
    "    return n**2\n",
    "if __name__== '__main__':\n",
    "    with multiprocessing.Pool(processes=4)as pool:\n",
    "        out= pool.map(square,[1,2,3,4])\n",
    "        print(out)"
   ]
  },
  {
   "cell_type": "raw",
   "id": "31d180dd-2a43-43c1-a40c-b0ddb276e10c",
   "metadata": {},
   "source": []
  },
  {
   "cell_type": "code",
   "execution_count": 7,
   "id": "f22ef51a-19ed-49e8-9d13-da77c0f2d2d9",
   "metadata": {},
   "outputs": [
    {
     "name": "stdout",
     "output_type": "stream",
     "text": [
      "number: 10\n",
      "square:100\n",
      "cube:1000\n",
      "multi:20\n"
     ]
    }
   ],
   "source": [
    "'''Q6. Write a python program to create 4 processes, each process should print a different number using the\n",
    "multiprocessing module in python.'''\n",
    "import multiprocessing\n",
    "def number(num):\n",
    "    print('number: {}'.format (num))\n",
    "def square(num):\n",
    "    print('square:{}'.format(num*num))\n",
    "def cube(num):\n",
    "    print('cube:{}'.format(num*num*num))\n",
    "def multi(num):\n",
    "    print('multi:{}'.format(num*2))\n",
    "if __name__=='__main__':\n",
    "    p1 = multiprocessing.Process(target=number, args=(10, ))\n",
    "        \n",
    "    p2 = multiprocessing.Process(target=square, args=(10, ))\n",
    "    p3= multiprocessing.Process(target=cube, args=(10, ))\n",
    "    p4 = multiprocessing.Process(target=multi, args=(10, ))\n",
    "    p1.start()\n",
    "    p2.start()\n",
    "    p3.start()\n",
    "    p4.start()\n",
    "    p1.join()\n",
    "    p2.join()\n",
    "    p3.join()\n",
    "    p4.join()\n",
    "    \n"
   ]
  },
  {
   "cell_type": "code",
   "execution_count": null,
   "id": "c9742d17-3036-4b01-a131-d0bb5fcff2d3",
   "metadata": {},
   "outputs": [],
   "source": []
  }
 ],
 "metadata": {
  "kernelspec": {
   "display_name": "Python 3 (ipykernel)",
   "language": "python",
   "name": "python3"
  },
  "language_info": {
   "codemirror_mode": {
    "name": "ipython",
    "version": 3
   },
   "file_extension": ".py",
   "mimetype": "text/x-python",
   "name": "python",
   "nbconvert_exporter": "python",
   "pygments_lexer": "ipython3",
   "version": "3.10.8"
  }
 },
 "nbformat": 4,
 "nbformat_minor": 5
}
